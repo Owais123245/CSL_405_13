{
  "metadata": {
    "kernelspec": {
      "display_name": "Python (Pyodide)",
      "language": "python",
      "name": "python"
    },
    "language_info": {
      "codemirror_mode": {
        "name": "python",
        "version": 3
      },
      "file_extension": ".py",
      "mimetype": "text/x-python",
      "name": "python",
      "nbconvert_exporter": "python",
      "pygments_lexer": "ipython3",
      "version": "3.8"
    },
    "colab": {
      "provenance": []
    }
  },
  "nbformat_minor": 5,
  "nbformat": 4,
  "cells": [
    {
      "id": "d25bcd77-db6b-45d8-9e96-b8cb417834e7",
      "cell_type": "markdown",
      "source": "# Owais Dhukka 13",
      "metadata": {
        "id": "d25bcd77-db6b-45d8-9e96-b8cb417834e7"
      }
    },
    {
      "id": "lACsh9xl8Dot",
      "cell_type": "markdown",
      "source": "## Assignment - 06",
      "metadata": {
        "id": "lACsh9xl8Dot"
      }
    },
    {
      "id": "df0c6015-36c1-42d7-bb1d-075725d86b34",
      "cell_type": "markdown",
      "source": "##### 1. Create a Pandas DataFrame from the following dataset:\n##### Name Age Salary Department\n##### John 25 50000 HR\n##### Alice 30 70000 IT\n##### Bob 35 60000 Finance\n##### Carol 28 65000 Marketing\n##### David 40 80000 IT\n###### • Display the first and last two rows of the DataFrame.\n###### • Retrieve the Salary column and compute its mean and standard deviation.\n###### • Filter employees who are older than 30 and belong to the IT department.\n###### • Add a new column Bonus where the bonus is 10% of the salary.",
      "metadata": {
        "id": "df0c6015-36c1-42d7-bb1d-075725d86b34"
      }
    },
    {
      "id": "6d909d79-41d1-495a-905d-d2b8391b35e1",
      "cell_type": "code",
      "source": "import pandas as pd",
      "metadata": {
        "id": "6d909d79-41d1-495a-905d-d2b8391b35e1",
        "trusted": true
      },
      "outputs": [],
      "execution_count": null
    },
    {
      "id": "4e9a043b-0720-4d2a-8782-1f7d010efcf7",
      "cell_type": "markdown",
      "source": "###### Step 1: Create the DataFrame",
      "metadata": {
        "id": "4e9a043b-0720-4d2a-8782-1f7d010efcf7"
      }
    },
    {
      "id": "471a55ea-b187-4f2b-b4fd-651ea60af6dd",
      "cell_type": "code",
      "source": "data = {\n    'Name': ['John', 'Alice', 'Bob', 'Carol', 'David'],\n    'Age': [25, 30, 35, 28, 40],\n    'Salary': [50000, 70000, 60000, 65000, 80000],\n    'Department': ['HR', 'IT', 'Finance', 'Marketing', 'IT']\n}\n",
      "metadata": {
        "id": "471a55ea-b187-4f2b-b4fd-651ea60af6dd",
        "trusted": true
      },
      "outputs": [],
      "execution_count": null
    },
    {
      "id": "20341296-a7d5-4ceb-836a-091db2dcc937",
      "cell_type": "code",
      "source": "df = pd.DataFrame(data)",
      "metadata": {
        "id": "20341296-a7d5-4ceb-836a-091db2dcc937",
        "trusted": true
      },
      "outputs": [],
      "execution_count": null
    },
    {
      "id": "0f5aee27-5f77-4a56-b7c7-644190b8693e",
      "cell_type": "markdown",
      "source": "###### Step 2: Display the first and last two rows",
      "metadata": {
        "id": "0f5aee27-5f77-4a56-b7c7-644190b8693e"
      }
    },
    {
      "id": "788d0dc6-0c53-4f20-b816-6de95d9105da",
      "cell_type": "code",
      "source": "print(\"First two rows:\")\nprint(df.head(2))\n\nprint(\"\\nLast two rows:\")\nprint(df.tail(2))",
      "metadata": {
        "id": "788d0dc6-0c53-4f20-b816-6de95d9105da",
        "outputId": "6c1bb211-6b8b-47cb-ad5a-a1ef6794d6ed",
        "trusted": true
      },
      "outputs": [
        {
          "name": "stdout",
          "output_type": "stream",
          "text": "First two rows:\n,    Name  Age  Salary Department\n,0   John   25   50000         HR\n,1  Alice   30   70000         IT\n,\n,Last two rows:\n,    Name  Age  Salary Department\n,3  Carol   28   65000  Marketing\n,4  David   40   80000         IT\n"
        }
      ],
      "execution_count": null
    },
    {
      "id": "7b3f6399-18e5-4135-a0da-cfecad64dbfe",
      "cell_type": "markdown",
      "source": "###### Step 3: Retrieve Salary column and compute mean and std deviation",
      "metadata": {
        "id": "7b3f6399-18e5-4135-a0da-cfecad64dbfe"
      }
    },
    {
      "id": "892b0702-e8fe-4e91-af52-0339dac0b20a",
      "cell_type": "code",
      "source": "salary = df['Salary']\nprint(\"Salary Mean:\", salary.mean())\nprint(\"Salary Standard Deviation:\", salary.std())",
      "metadata": {
        "id": "892b0702-e8fe-4e91-af52-0339dac0b20a",
        "outputId": "f2771306-2446-4fef-f93a-2f250c327a5e",
        "trusted": true
      },
      "outputs": [
        {
          "name": "stdout",
          "output_type": "stream",
          "text": "Salary Mean: 65000.0\n,Salary Standard Deviation: 11180.339887498949\n"
        }
      ],
      "execution_count": null
    },
    {
      "id": "4fa0b472-c023-409f-895b-df1993b31f20",
      "cell_type": "markdown",
      "source": "###### Step 4: Filter employees older than 30 in IT department",
      "metadata": {
        "id": "4fa0b472-c023-409f-895b-df1993b31f20"
      }
    },
    {
      "id": "409b986e-eef5-4fdf-9613-0c356f278893",
      "cell_type": "code",
      "source": "filtered = df[(df['Age'] > 30) & (df['Department'] == 'IT')]\nprint(\"Employees older than 30 in IT Department:\")\nprint(filtered)",
      "metadata": {
        "id": "409b986e-eef5-4fdf-9613-0c356f278893",
        "outputId": "d5f32c62-609b-46ef-ffdf-192b707cba9c",
        "trusted": true
      },
      "outputs": [
        {
          "name": "stdout",
          "output_type": "stream",
          "text": "Employees older than 30 in IT Department:\n,    Name  Age  Salary Department\n,4  David   40   80000         IT\n"
        }
      ],
      "execution_count": null
    },
    {
      "id": "ec1cdb39-1d36-4f25-b6c9-576e97a5668b",
      "cell_type": "markdown",
      "source": "###### Step 5: Add a Bonus column (10% of Salary)",
      "metadata": {
        "id": "ec1cdb39-1d36-4f25-b6c9-576e97a5668b"
      }
    },
    {
      "id": "716b23be-4a9d-423f-8894-f4535be8eb4c",
      "cell_type": "code",
      "source": "df['Bonus'] = df['Salary'] * 0.10\nprint(\"DataFrame with Bonus column:\")\nprint(df)",
      "metadata": {
        "id": "716b23be-4a9d-423f-8894-f4535be8eb4c",
        "outputId": "e465e43f-1d5c-4612-cd7c-8d23ad0e6ec8",
        "trusted": true
      },
      "outputs": [
        {
          "name": "stdout",
          "output_type": "stream",
          "text": "DataFrame with Bonus column:\n,    Name  Age  Salary Department   Bonus\n,0   John   25   50000         HR  5000.0\n,1  Alice   30   70000         IT  7000.0\n,2    Bob   35   60000    Finance  6000.0\n,3  Carol   28   65000  Marketing  6500.0\n,4  David   40   80000         IT  8000.0\n"
        }
      ],
      "execution_count": null
    }
  ]
}