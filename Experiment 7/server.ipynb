{
  "metadata": {
    "kernelspec": {
      "name": "python",
      "display_name": "Python (Pyodide)",
      "language": "python"
    },
    "language_info": {
      "codemirror_mode": {
        "name": "python",
        "version": 3
      },
      "file_extension": ".py",
      "mimetype": "text/x-python",
      "name": "python",
      "nbconvert_exporter": "python",
      "pygments_lexer": "ipython3",
      "version": "3.8"
    }
  },
  "nbformat_minor": 5,
  "nbformat": 4,
  "cells": [
    {
      "id": "bc880529-dd79-4ea6-8a70-53d6b5f58e52",
      "cell_type": "markdown",
      "source": "# Owais Dhukka  AIDS 13",
      "metadata": {}
    },
    {
      "id": "8d857f28-21cb-41da-aecb-7054bb922c3d",
      "cell_type": "markdown",
      "source": "### Server",
      "metadata": {}
    },
    {
      "id": "a85b8437-68f2-43a8-841c-04c61703d07d",
      "cell_type": "code",
      "source": "import socket, threading",
      "metadata": {},
      "outputs": [],
      "execution_count": 2
    },
    {
      "id": "22999a5e-8d9d-4bff-900d-693236734a35",
      "cell_type": "code",
      "source": "PORT = 5050\nSERVER = socket.gethostbyname (socket.gethostname ())\nADDR = (SERVER, PORT)\nFORMAT = 'utf-8'\nHEADER = 64\nDISCONNECT_MESSAGE = '!DISCONNECT'\n\nserver = socket.socket (socket.AF_INET, socket.SOCK_STREAM)\nserver.bind (ADDR)\n\ndef clientHandling (connection, address):\n    print (f'[NEW CONNECTION] {address} connected')\n    isConnected = True\n    while isConnected:\n        messageLength = connection.recv (HEADER).decode (FORMAT)\n        if messageLength:\n            messageLength = int (messageLength)\n            message = connection.recv (messageLength).decode (FORMAT)\n            if message == DISCONNECT_MESSAGE:\n                isConnected = False\n            print (f'[{address}] {message}')\n            connection.send ('Message Recieved'.encode (FORMAT))\n    connection.close ()\n\ndef start ():\n    server.listen ()\n    print (f'[LISTENING] Server is listening on {SERVER}')\n    while True:\n        connection, address = server.accept ()\n        thread = threading.Thread (target=clientHandling, args=(connection, address))\n        thread.start ()\n        print (f'[ACTIVE CONNECTION] {threading.active_count () - 1}')\n\nprint ('[SERVER STARTING] server has been started')\nstart ()",
      "metadata": {},
      "outputs": [
        {
          "name": "stdout",
          "output_type": "stream",
          "text": "[SERVER STARTING] server has been started\n,[LISTENING] Server is listening on 192.168.0.100\n,[NEW CONNECTION] ('192.168.0.100', 57404) connected\n,[ACTIVE CONNECTION] 6\n,[('192.168.0.100', 57404)] Hello World\n,[('192.168.0.100', 57404)] !DISCONNECT\n"
        }
      ],
      "execution_count": null
    },
    {
      "id": "fd70b09d-2b06-4402-9dae-725e9f0b2375",
      "cell_type": "code",
      "source": "",
      "metadata": {},
      "outputs": [],
      "execution_count": null
    }
  ]
}