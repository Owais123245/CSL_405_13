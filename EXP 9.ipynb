{
  "metadata": {
    "kernelspec": {
      "display_name": "Python (Pyodide)",
      "language": "python",
      "name": "python"
    },
    "language_info": {
      "codemirror_mode": {
        "name": "python",
        "version": 3
      },
      "file_extension": ".py",
      "mimetype": "text/x-python",
      "name": "python",
      "nbconvert_exporter": "python",
      "pygments_lexer": "ipython3",
      "version": "3.8"
    }
  },
  "nbformat_minor": 5,
  "nbformat": 4,
  "cells": [
    {
      "id": "ca8dc06a-c8e8-4b7b-bbe4-1edf7e8d98be",
      "cell_type": "markdown",
      "source": "# OWAIS DHUKKA AIDS 13",
      "metadata": {}
    },
    {
      "id": "19239a05-b3f3-4bee-ac72-32ab52075354",
      "cell_type": "code",
      "source": "import numpy as np\n\n# 1. Array Creation Techniques\nprint(\"1. Array Creation Techniques\")\n\n# a. Creating an array from a list\narray_from_list = np.array([1, 2, 3, 4, 5])\nprint (array_from_list)\n\n# b. Using arange()\narray_arange = np.arange(0, 10, 2)\nprint(array_arange)\n\n# c. Using linspace()\narray_linspace = np.linspace(0, 10, 5)  # Divides 0 to 10 into 5 points\nprint (array_linspace)\n\n# d. Using zeros()\narray_zeros = np.zeros((3, 3))\nprint(array_zeros)\n\n# e. Using ones()\nprint(\"array using ones\")\narray_ones = np.ones((2, 2))\nprint (array_ones)\n\n# f. Using eye() for identity matrix\nprint(\"array using eye\")\narray_eye = np.eye(3)\nprint (array_eye)\n\n# g. Using random() for random values\nprint(\"array using random\")\narray_random = np.random.random((3, 3))\nprint (array_random)\n\n# 2. Different NumPy Methods\nprint(\"\\n2. NumPy Methods\")\nprint(\"reshaped array\\n\")\n# a. Reshaping an array\nreshaped_array = np.arange(1, 10).reshape(3, 3)\nprint(reshaped_array)\nprint(\"transposed array\")\n# b. Transposing an array\ntransposed_array = reshaped_array.T\nprint(transposed_array)\nprint(\"maths opertaion\")\n# c. Mathematical operations\narray_math = np.array([1, 2, 3])\nprint(array_math + 2)\nprint (array_math*3)\n\nprint (np.sqrt (array_math))\n\nprint(\" Aggregation methods\\n\")\n# d. Aggregation methods\nprint(np.sum(array_math))\nprint(np.mean(array_math))\nprint(np.max(array_math))\nprint(np.min(array_math))\n\n# e. Concatenation of arrays\narray_a = np.array([1, 2, 3])\nprint(array_a)\narray_b = np.array([4, 5, 6])\nprint(array_b)\nprint (\"concatenated array\")\nconcat_array = np.concatenate((array_a, array_b))\nprint(concat_array)\n\n# f. Sorting an array\nunsorted_array = np.array([3, 1, 4, 2])\nsorted_array = np.sort(unsorted_array)\nprint (\"sorted array\")\nprint(sorted_array)\n\nprint(indexed_value)# g. Indexing and Slicing\nindexed_value = array_math[1]  # Indexing\nprint(\"indexed_value\")\nprint(indexed_value)\nsliced_array = array_math[1:3]  # Slicing\nprint(\"sliced_array\")\nprint(sliced_array)\n\n# h. Boolean Masking\nboolean_mask = array_math > 2\nprint(boolean_mask)\nprint(array_math[boolean_mask])",
      "metadata": {
        "trusted": true
      },
      "outputs": [
        {
          "name": "stdout",
          "output_type": "stream",
          "text": "1. Array Creation Techniques\n,[1 2 3 4 5]\n,[0 2 4 6 8]\n,[ 0.   2.5  5.   7.5 10. ]\n,[[0. 0. 0.]\n, [0. 0. 0.]\n, [0. 0. 0.]]\n,array using ones\n,[[1. 1.]\n, [1. 1.]]\n,array using eye\n,[[1. 0. 0.]\n, [0. 1. 0.]\n, [0. 0. 1.]]\n,array using random\n,[[0.72079523 0.01407779 0.26189302]\n, [0.33816459 0.49231878 0.23149669]\n, [0.12321155 0.18063919 0.76723657]]\n,\n,2. NumPy Methods\n,reshaped array\n,\n,[[1 2 3]\n, [4 5 6]\n, [7 8 9]]\n,transposed array\n,[[1 4 7]\n, [2 5 8]\n, [3 6 9]]\n,maths opertaion\n,[3 4 5]\n,[3 6 9]\n,[1.         1.41421356 1.73205081]\n, Aggregation methods\n,\n,6\n,2.0\n,3\n,1\n,[1 2 3]\n,[4 5 6]\n,concatenated array\n,[1 2 3 4 5 6]\n,sorted array\n,[1 2 3 4]\n,2\n,indexed_value\n,2\n,sliced_array\n,[2 3]\n,[False False  True]\n,[3]\n"
        }
      ],
      "execution_count": 12
    },
    {
      "id": "6336e78a-0978-421f-961e-dcd4c7d90a08",
      "cell_type": "markdown",
      "source": "",
      "metadata": {}
    }
  ]
}