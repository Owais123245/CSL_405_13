{
  "metadata": {
    "kernelspec": {
      "name": "python",
      "display_name": "Python (Pyodide)",
      "language": "python"
    },
    "language_info": {
      "codemirror_mode": {
        "name": "python",
        "version": 3
      },
      "file_extension": ".py",
      "mimetype": "text/x-python",
      "name": "python",
      "nbconvert_exporter": "python",
      "pygments_lexer": "ipython3",
      "version": "3.8"
    }
  },
  "nbformat_minor": 5,
  "nbformat": 4,
  "cells": [
    {
      "id": "bd0e3409-da25-428d-9131-6e692214ce94",
      "cell_type": "markdown",
      "source": "# Owais Dhukka   AIDS 13",
      "metadata": {}
    },
    {
      "id": "37a03301-3570-4470-8c02-83c9ea2090e9",
      "cell_type": "markdown",
      "source": "### client",
      "metadata": {}
    },
    {
      "id": "a940f888-7a38-4a84-bca3-376e8dd64821",
      "cell_type": "code",
      "source": "import socket\nPORT = 5050\n#SERVER = ''\nSERVER = socket.gethostbyname (socket.gethostname ())\nADDR = (SERVER, PORT)\nFORMAT = 'utf-8'\nHEADER = 64\nDISCONNECT_MESSAGE = '!DISCONNECT'\n\nclient = socket.socket (socket.AF_INET, socket.SOCK_STREAM)\nclient.connect (ADDR)\n",
      "metadata": {},
      "outputs": [],
      "execution_count": 5
    },
    {
      "id": "f3b35c2b-924c-437a-941e-fe25ecdfba77",
      "cell_type": "code",
      "source": "def send (messages):\n    message = messages.encode (FORMAT)\n    messageLength = len (message)\n    sendLength = str (messageLength).encode (FORMAT)\n    sendLength += b' ' * (HEADER - len (sendLength))\n    client.send (sendLength)\n    client.send (message)\n    print (client.recv (2045).decode (FORMAT))",
      "metadata": {},
      "outputs": [],
      "execution_count": 6
    },
    {
      "id": "f25e2ac9-d216-4ec9-b08b-67b761a3ff77",
      "cell_type": "code",
      "source": "if __name__ == '__main__':\n    send ('Hello World')\n    send (DISCONNECT_MESSAGE)",
      "metadata": {},
      "outputs": [
        {
          "name": "stdout",
          "output_type": "stream",
          "text": "Message Recieved\n,Message Recieved\n"
        }
      ],
      "execution_count": 7
    },
    {
      "id": "17b7b75d-41f6-441b-99f2-8b189ce89b11",
      "cell_type": "code",
      "source": "",
      "metadata": {},
      "outputs": [],
      "execution_count": null
    }
  ]
}
