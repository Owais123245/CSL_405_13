{
  "metadata": {
    "kernelspec": {
      "name": "python",
      "display_name": "Python (Pyodide)",
      "language": "python"
    },
    "language_info": {
      "codemirror_mode": {
        "name": "python",
        "version": 3
      },
      "file_extension": ".py",
      "mimetype": "text/x-python",
      "name": "python",
      "nbconvert_exporter": "python",
      "pygments_lexer": "ipython3",
      "version": "3.8"
    },
    "colab": {
      "authorship_tag": "ABX9TyPSCddGZSJAcA8/DJF71Irw",
      "provenance": []
    }
  },
  "nbformat_minor": 4,
  "nbformat": 4,
  "cells": [
    {
      "cell_type": "markdown",
      "source": "### OWAIS DHUKKA RollNo.13",
      "metadata": {
        "id": "YL1wRHhagBRT"
      }
    },
    {
      "cell_type": "markdown",
      "source": "### Importing",
      "metadata": {
        "id": "RQZxyP1OhK1N"
      }
    },
    {
      "cell_type": "code",
      "source": "import sqlite3",
      "metadata": {
        "id": "xSgSEuAVaojP"
      },
      "outputs": [],
      "execution_count": null
    },
    {
      "cell_type": "markdown",
      "source": "### Connecting to datbase",
      "metadata": {
        "id": "Q23Ik80nhQg8"
      }
    },
    {
      "cell_type": "code",
      "source": "import os\nif not os.path.exists(\"/content/genericDatabase.db\"):\n    open(\"/content/genericDatabase.db\", \"w\").close()\n\nconnection = sqlite3.connect('/content/genericDatabase.db')\ncursor = connection.cursor()",
      "metadata": {
        "id": "QjtgAM7idHp_"
      },
      "outputs": [],
      "execution_count": null
    },
    {
      "cell_type": "markdown",
      "source": "### Create Table",
      "metadata": {
        "id": "4FOVqVqehVD9"
      }
    },
    {
      "cell_type": "code",
      "source": "cursor.execute('''\n    CREATE TABLE IF NOT EXISTS students (\n        id INTEGER PRIMARY KEY AUTOINCREMENT,\n        name TEXT NOT NULL,\n        age INTEGER NOT NULL\n    )\n''')\nconnection.commit()",
      "metadata": {
        "id": "Ign4o6wEeDvt"
      },
      "outputs": [],
      "execution_count": null
    },
    {
      "cell_type": "markdown",
      "source": "## CRUD Operations",
      "metadata": {
        "id": "7kYtRVoLhcjt"
      }
    },
    {
      "cell_type": "markdown",
      "source": "### Create (Insertion)",
      "metadata": {
        "id": "PV9aO8F1hhTU"
      }
    },
    {
      "cell_type": "code",
      "source": "def create_student(name, age):\n    cursor.execute('''\n        INSERT INTO students (name, age)\n        VALUES (?, ?)\n    ''', (name, age))\n    connection.commit()\n    print(\"Record added successfully!\")\n\ncreate_student(\"Griffith\", 20)\ncreate_student(\"Guts\", 22)",
      "metadata": {
        "colab": {
          "base_uri": "https://localhost:8080/"
        },
        "executionInfo": {
          "elapsed": 14,
          "status": "ok",
          "timestamp": 1740980137795,
          "user": {
            "displayName": "SE_06_SHARVARI",
            "userId": "16388512041190257768"
          },
          "user_tz": -330
        },
        "id": "9sC-Bc78e3La",
        "outputId": "0dababa1-2cfc-4e78-cba6-2bb7373a4964"
      },
      "outputs": [
        {
          "name": "stdout",
          "output_type": "stream",
          "text": "Record added successfully!\n,Record added successfully!\n"
        }
      ],
      "execution_count": null
    },
    {
      "cell_type": "markdown",
      "source": "### Read (Retrive)",
      "metadata": {
        "id": "R3a--SSd3P2y"
      }
    },
    {
      "cell_type": "code",
      "source": "\ndef read_students():\n    cursor.execute('SELECT * FROM students')\n    rows = cursor.fetchall()\n    print(\"Student Records:\")\n    for row in rows:\n        print(row)\n\nread_students()",
      "metadata": {
        "colab": {
          "base_uri": "https://localhost:8080/"
        },
        "executionInfo": {
          "elapsed": 24,
          "status": "ok",
          "timestamp": 1740980137813,
          "user": {
            "displayName": "SE_06_SHARVARI",
            "userId": "16388512041190257768"
          },
          "user_tz": -330
        },
        "id": "dH2zlH3mfIk8",
        "outputId": "33f19f5d-e7f0-4c8e-f562-217a6eabdc8e"
      },
      "outputs": [
        {
          "name": "stdout",
          "output_type": "stream",
          "text": "Student Records:\n,(1, 'Griffith', 20)\n,(2, 'Guts', 22)\n"
        }
      ],
      "execution_count": null
    },
    {
      "cell_type": "markdown",
      "source": "### Update",
      "metadata": {
        "id": "b4yTSGSh3UY4"
      }
    },
    {
      "cell_type": "code",
      "source": "def update_student_age(student_id, new_age):\n    cursor.execute('''\n        UPDATE students\n        SET age = ?\n        WHERE id = ?\n    ''', (new_age, student_id))\n    connection.commit()\n    print(\"Student age updated successfully!\")\n\nupdate_student_age(1, 21)  # Updating student with ID 1 to age 21\nread_students()",
      "metadata": {
        "colab": {
          "base_uri": "https://localhost:8080/"
        },
        "executionInfo": {
          "elapsed": 7,
          "status": "ok",
          "timestamp": 1740980137822,
          "user": {
            "displayName": "SE_06_SHARVARI",
            "userId": "16388512041190257768"
          },
          "user_tz": -330
        },
        "id": "gTeC86ahfMzI",
        "outputId": "960ed5ac-1137-497a-aa17-98e9fb269e2b"
      },
      "outputs": [
        {
          "name": "stdout",
          "output_type": "stream",
          "text": "Student age updated successfully!\n,Student Records:\n,(1, 'Griffith', 21)\n,(2, 'Guts', 22)\n"
        }
      ],
      "execution_count": null
    },
    {
      "cell_type": "markdown",
      "source": "### Delete",
      "metadata": {
        "id": "CNQkznM43XvR"
      }
    },
    {
      "cell_type": "code",
      "source": "def delete_student(student_id):\n    cursor.execute('''\n        DELETE FROM students\n        WHERE id = ?\n    ''', (student_id,))\n    connection.commit()\n    print(\"Student deleted successfully!\")\n\ndelete_student(2)\nread_students()",
      "metadata": {
        "colab": {
          "base_uri": "https://localhost:8080/"
        },
        "executionInfo": {
          "elapsed": 20,
          "status": "ok",
          "timestamp": 1740980137844,
          "user": {
            "displayName": "SE_06_SHARVARI",
            "userId": "16388512041190257768"
          },
          "user_tz": -330
        },
        "id": "cDkdgmpmfo9i",
        "outputId": "a3375ead-ffe8-495e-d4e5-1bd533798980"
      },
      "outputs": [
        {
          "name": "stdout",
          "output_type": "stream",
          "text": "Student deleted successfully!\n,Student Records:\n,(1, 'Griffith', 21)\n"
        }
      ],
      "execution_count": null
    },
    {
      "cell_type": "markdown",
      "source": "### Closing the database connection",
      "metadata": {
        "id": "evzDjREm3as6"
      }
    },
    {
      "cell_type": "code",
      "source": "connection.close ()",
      "metadata": {
        "id": "e_apjPUHf4wK"
      },
      "outputs": [],
      "execution_count": null
    }
  ]
}
