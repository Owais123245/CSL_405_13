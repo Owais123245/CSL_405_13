{
  "metadata": {
    "kernelspec": {
      "name": "python",
      "display_name": "Python (Pyodide)",
      "language": "python"
    },
    "language_info": {
      "codemirror_mode": {
        "name": "python",
        "version": 3
      },
      "file_extension": ".py",
      "mimetype": "text/x-python",
      "name": "python",
      "nbconvert_exporter": "python",
      "pygments_lexer": "ipython3",
      "version": "3.8"
    },
    "colab": {
      "include_colab_link": true,
      "provenance": []
    }
  },
  "nbformat_minor": 4,
  "nbformat": 4,
  "cells": [
    {
      "cell_type": "markdown",
      "source": "# OWAIS DHUKKA AIDS 13",
      "metadata": {}
    },
    {
      "cell_type": "markdown",
      "source": "<a href=\"https://colab.research.google.com/github/THE-AAV-2005/SBL-PP/blob/main/Exp8.ipynb\" target=\"_parent\"><img src=\"https://colab.research.google.com/assets/colab-badge.svg\" alt=\"Open In Colab\"/></a>",
      "metadata": {
        "colab_type": "text",
        "id": "view-in-github"
      }
    },
    {
      "cell_type": "code",
      "source": "import threading\nimport time\n\ndef print_numbers():\n    for i in range(1, 6):\n        print(f\"Thread 1 - Number: {i}\")\n        time.sleep(1)\n\ndef print_letters():\n    for letter in 'ABCDE':\n        print(f\"Thread 2 - Letter: {letter}\")\n        time.sleep(1)\n\ndef print_squares():\n    for i in range(1, 6):\n        print(f\"Thread 3 - Square of {i}: {i ** 2}\")\n        time.sleep(1)\n\n# Creating threads\nthread1 = threading.Thread(target=print_numbers)\nthread2 = threading.Thread(target=print_letters)\nthread3 = threading.Thread(target=print_squares)\n\n# Starting threads\nthread1.start()\nthread2.start()\nthread3.start()\n\n# Ensuring all threads complete\nthread1.join()\nthread2.join()\nthread3.join()\n\nprint(\"All threads have finished executing.\")",
      "metadata": {
        "colab": {
          "base_uri": "https://localhost:8080/"
        },
        "id": "d7ZWugepms7J",
        "outputId": "f89a8b59-7a0c-4a2a-d424-a1e7d9583c5c"
      },
      "outputs": [
        {
          "name": "stdout",
          "output_type": "stream",
          "text": "Thread 1 - Number: 1\n,Thread 2 - Letter: A\n,Thread 3 - Square of 1: 1\n,Thread 1 - Number: 2\n,Thread 2 - Letter: B\n,Thread 3 - Square of 2: 4\n,Thread 1 - Number: 3\n,Thread 2 - Letter: C\n,Thread 3 - Square of 3: 9\n,Thread 1 - Number: 4\n,Thread 2 - Letter: D\n,Thread 3 - Square of 4: 16\n,Thread 1 - Number: 5\n,Thread 2 - Letter: E\n,Thread 3 - Square of 5: 25\n,All threads have finished executing.\n"
        }
      ],
      "execution_count": null
    }
  ]
}
