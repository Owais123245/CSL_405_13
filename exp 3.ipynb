{
  "cells": [
    {
      "cell_type": "code",
      "execution_count": 1,
      "id": "c4e008a0-9641-4298-a6b4-7441dcce06ff",
      "metadata": {
        "trusted": true
      },
      "outputs": [
        {
          "name": "stdout",
          "output_type": "stream",
          "text": [
            "Lines: 4\n",
            "Words: 21\n",
            "Characters: 123\n"
          ]
        }
      ],
      "source": [
        "if __name__ == '__main__':\n",
        "    with open('./file.txt', 'r') as file:\n",
        "        lines = file.readlines()\n",
        "        numberOfLines = len(lines)\n",
        "        numberOfWords = sum(len(line.split()) for line in lines)\n",
        "        \n",
        "        # Calculate number of characters by summing the length of each line\n",
        "        numberOfCharacters = sum(len(line) for line in lines)\n",
        "\n",
        "    print(f\"Lines: {numberOfLines}\")\n",
        "    print(f\"Words: {numberOfWords}\")\n",
        "    print(f\"Characters: {numberOfCharacters}\")\n"
      ]
    },
    {
      "cell_type": "markdown",
      "id": "f5cac766",
      "metadata": {},
      "source": [
        "OWAIS DHUKKA 13"
      ]
    },
    {
      "cell_type": "code",
      "execution_count": null,
      "id": "0e707164-b725-432c-a8ee-9b83c969f238",
      "metadata": {
        "trusted": true
      },
      "outputs": [],
      "source": []
    }
  ],
  "metadata": {
    "kernelspec": {
      "display_name": "Python (Pyodide)",
      "language": "python",
      "name": "python"
    },
    "language_info": {
      "codemirror_mode": {
        "name": "python",
        "version": 3
      },
      "file_extension": ".py",
      "mimetype": "text/x-python",
      "name": "python",
      "nbconvert_exporter": "python",
      "pygments_lexer": "ipython3",
      "version": "3.8"
    }
  },
  "nbformat": 4,
  "nbformat_minor": 5
}
